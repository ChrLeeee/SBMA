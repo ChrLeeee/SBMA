{
 "cells": [
  {
   "cell_type": "code",
   "execution_count": 1,
   "id": "43461b43",
   "metadata": {},
   "outputs": [],
   "source": [
    "import os, sys, glob, re, math, pickle\n",
    "import scprep, magic, phate\n",
    "from scipy import sparse\n",
    "import numpy as np\n",
    "import pandas as pd\n",
    "from scipy import sparse as sp\n",
    "import time,random,datetime\n",
    "import scanpy as sc\n",
    "#from bbknn import bbknn\n",
    "import anndata\n",
    "from typing import Dict, Optional\n",
    "import tables\n",
    "from bbknn import bbknn\n",
    "%matplotlib inline\n",
    "%load_ext memory_profiler\n",
    "import graphtools as gt\n",
    "\n",
    "# fps\n",
    "dfp = '/home/cl2292/project/SBMA/data/'\n",
    "pfp = '/home/cl2292/project/SBMA/result/'\n",
    "pdfp = '/home/cl2292/project/SBMA/data/processed/'\n",
    "sc.settings.figdir = pfp"
   ]
  },
  {
   "cell_type": "code",
   "execution_count": 2,
   "id": "b8c41d64",
   "metadata": {},
   "outputs": [
    {
     "name": "stdout",
     "output_type": "stream",
     "text": [
      "peak memory: 2619.00 MiB, increment: 2349.28 MiB\n",
      "loaded @230201.10:32:34\n",
      "took 3.19-s to load data\n"
     ]
    }
   ],
   "source": [
    "# Load Data\n",
    "\n",
    "if True :\n",
    "    start = time.time()\n",
    "    backed=None # None if not\n",
    "    fname='230201_ctype.h5ad' # for full, can maybe get away with ~300G\n",
    "    %memit adata = sc.read_h5ad(os.path.join(pdfp,fname),backed=backed)\n",
    "    print('loaded @'+datetime.datetime.now().strftime('%y%m%d.%H:%M:%S'))\n",
    "    print('took {:.2f}-s to load data'.format(time.time()-start))"
   ]
  },
  {
   "cell_type": "code",
   "execution_count": 3,
   "id": "4113b868",
   "metadata": {},
   "outputs": [],
   "source": [
    "#Imputation\n",
    "\n",
    "wt = adata[adata.obs['genotype']=='WT', :]\n",
    "mut = adata[adata.obs['genotype']=='AR', :]"
   ]
  },
  {
   "cell_type": "code",
   "execution_count": 4,
   "id": "75428d65",
   "metadata": {},
   "outputs": [
    {
     "name": "stdout",
     "output_type": "stream",
     "text": [
      "Starting imputation for WT\n",
      "\n"
     ]
    },
    {
     "name": "stderr",
     "output_type": "stream",
     "text": [
      "/tmp/ipykernel_9256/3770459987.py:6: ImplicitModificationWarning: Trying to modify attribute `.obs` of view, initializing view as actual.\n",
      "  wt.obs['value'] = 0\n"
     ]
    },
    {
     "name": "stdout",
     "output_type": "stream",
     "text": [
      "Running MAGIC on 28501 cells and 27091 genes.\n",
      "Using precomputed graph and diffusion operator...\n",
      "Running MAGIC with `solver='exact'` on 27091-dimensional data may take a long time. Consider denoising specific genes with `genes=<list-like>` or using `solver='approximate'`.\n"
     ]
    },
    {
     "name": "stderr",
     "output_type": "stream",
     "text": [
      "/gpfs/ycga/project/lim_janghoo/cl2292/conda_envs/af/lib/python3.10/site-packages/magic/magic.py:425: UserWarning: Input matrix contains unexpressed genes. Please remove them prior to running MAGIC.\n",
      "  warnings.warn(\n",
      "/gpfs/ycga/project/lim_janghoo/cl2292/conda_envs/af/lib/python3.10/site-packages/magic/magic.py:541: UserWarning: Running MAGIC.transform on different data to that which was used for MAGIC.fit may not produce sensible output, unless it comes from the same manifold.\n",
      "  warnings.warn(\n"
     ]
    },
    {
     "name": "stdout",
     "output_type": "stream",
     "text": [
      "Calculating imputation...\n",
      "Calculated imputation in 67.34 seconds.\n",
      "\n",
      "  imputation in 1.90-min\n",
      "saved @230201.10:34:35\n",
      "\n",
      " Starting imputation for SBMA\n",
      "\n"
     ]
    },
    {
     "name": "stderr",
     "output_type": "stream",
     "text": [
      "/tmp/ipykernel_9256/3770459987.py:34: ImplicitModificationWarning: Trying to modify attribute `.obs` of view, initializing view as actual.\n",
      "  mut.obs['value'] = 0\n"
     ]
    },
    {
     "name": "stdout",
     "output_type": "stream",
     "text": [
      "Running MAGIC on 30222 cells and 27091 genes.\n",
      "Using precomputed graph and diffusion operator...\n",
      "Running MAGIC with `solver='exact'` on 27091-dimensional data may take a long time. Consider denoising specific genes with `genes=<list-like>` or using `solver='approximate'`.\n"
     ]
    },
    {
     "name": "stderr",
     "output_type": "stream",
     "text": [
      "/gpfs/ycga/project/lim_janghoo/cl2292/conda_envs/af/lib/python3.10/site-packages/magic/magic.py:425: UserWarning: Input matrix contains unexpressed genes. Please remove them prior to running MAGIC.\n",
      "  warnings.warn(\n",
      "/gpfs/ycga/project/lim_janghoo/cl2292/conda_envs/af/lib/python3.10/site-packages/magic/magic.py:541: UserWarning: Running MAGIC.transform on different data to that which was used for MAGIC.fit may not produce sensible output, unless it comes from the same manifold.\n",
      "  warnings.warn(\n"
     ]
    },
    {
     "name": "stdout",
     "output_type": "stream",
     "text": [
      "Calculating imputation...\n",
      "Calculated imputation in 73.37 seconds.\n",
      "\n",
      "  imputation in 1.80-min\n",
      "saved @230201.10:36:30\n"
     ]
    }
   ],
   "source": [
    "#k=45, t=3\n",
    "print('Starting imputation for {}\\n'.format('WT'))\n",
    "tic = time.time()\n",
    "\n",
    "wt = adata[adata.obs['genotype']=='WT', :]\n",
    "wt.obs['value'] = 0\n",
    "sc.pp.pca(wt)\n",
    "sc.pp.neighbors(wt, n_pcs=45)\n",
    "\n",
    "\n",
    "# MAGIC\n",
    "G = gt.Graph(data=wt.obsp['connectivities']+sparse.diags([1]*wt.shape[0],format='csr'),\n",
    "             precomputed='adjacency',\n",
    "             use_pygsp=True)\n",
    "G.knn_max = None\n",
    "\n",
    "magic_op=magic.MAGIC().fit(X=wt.X,graph=G) # running fit_transform produces wrong shape\n",
    "wt.layers['imputed']=magic_op.transform(wt.X,genes='all_genes')\n",
    "\n",
    "print('\\n  imputation in {:.2f}-min'.format((time.time() - tic)/60))\n",
    "\n",
    "\n",
    "# save data objects\n",
    "wt.write(os.path.join(pdfp,'230201_WT_imp.h5ad'))\n",
    "print('saved @'+datetime.datetime.now().strftime('%y%m%d.%H:%M:%S'))\n",
    "\n",
    "\n",
    "\n",
    "\n",
    "print('\\n Starting imputation for {}\\n'.format('SBMA'))\n",
    "tic = time.time()\n",
    "\n",
    "mut = adata[adata.obs['genotype']=='AR', :]\n",
    "mut.obs['value'] = 0\n",
    "sc.pp.pca(mut)\n",
    "sc.pp.neighbors(mut, n_pcs=45)\n",
    "\n",
    "# MAGIC\n",
    "G = gt.Graph(data=mut.obsp['connectivities']+sparse.diags([1]*mut.shape[0],format='csr'),\n",
    "             precomputed='adjacency',\n",
    "             use_pygsp=True)\n",
    "G.knn_max = None\n",
    "\n",
    "magic_op=magic.MAGIC().fit(X=mut.X,graph=G) # running fit_transform produces wrong shape\n",
    "mut.layers['imputed']=magic_op.transform(mut.X,genes='all_genes')\n",
    "\n",
    "print('\\n  imputation in {:.2f}-min'.format((time.time() - tic)/60))\n",
    "\n",
    "# save data objects\n",
    "mut.write(os.path.join(pdfp,'230201_SBMA_imp.h5ad'))\n",
    "print('saved @'+datetime.datetime.now().strftime('%y%m%d.%H:%M:%S'))"
   ]
  },
  {
   "cell_type": "code",
   "execution_count": null,
   "id": "87a78c85",
   "metadata": {},
   "outputs": [],
   "source": []
  }
 ],
 "metadata": {
  "kernelspec": {
   "display_name": "Python 3 (ipykernel)",
   "language": "python",
   "name": "python3"
  },
  "language_info": {
   "codemirror_mode": {
    "name": "ipython",
    "version": 3
   },
   "file_extension": ".py",
   "mimetype": "text/x-python",
   "name": "python",
   "nbconvert_exporter": "python",
   "pygments_lexer": "ipython3",
   "version": "3.10.8"
  }
 },
 "nbformat": 4,
 "nbformat_minor": 5
}
