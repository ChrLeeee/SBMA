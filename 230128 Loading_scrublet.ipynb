{
 "cells": [
  {
   "cell_type": "markdown",
   "id": "afbcd19c",
   "metadata": {},
   "source": [
    "### 2023/1/23 Loading samples with RG\n",
    "\n",
    "loading samples after background removal with CellBender\n",
    "\n",
    "Cell Ranger v6.1.2"
   ]
  },
  {
   "cell_type": "code",
   "execution_count": 28,
   "id": "ac5aad6a",
   "metadata": {},
   "outputs": [
    {
     "name": "stdout",
     "output_type": "stream",
     "text": [
      "The memory_profiler extension is already loaded. To reload it, use:\n",
      "  %reload_ext memory_profiler\n"
     ]
    }
   ],
   "source": [
    "import os, sys, glob, re, math, pickle\n",
    "import scprep, magic, phate\n",
    "import numpy as np\n",
    "import pandas as pd\n",
    "from scipy import sparse as sp\n",
    "import time,random,datetime\n",
    "import scanpy as sc\n",
    "import anndata\n",
    "from typing import Dict, Optional\n",
    "import tables\n",
    "from bbknn import bbknn\n",
    "%matplotlib inline\n",
    "%load_ext memory_profiler\n",
    "\n"
   ]
  },
  {
   "cell_type": "code",
   "execution_count": 2,
   "id": "395adaab",
   "metadata": {},
   "outputs": [],
   "source": [
    "# fps\n",
    "dfp = '/home/cl2292/project/SBMA/data/'\n",
    "pfp = '/home/cl2292/project/SBMA/result/'\n",
    "pdfp = '/home/cl2292/project/SBMA/data/processed/'\n",
    "sc.settings.figdir = pfp"
   ]
  },
  {
   "cell_type": "code",
   "execution_count": 3,
   "id": "c815695f",
   "metadata": {},
   "outputs": [],
   "source": [
    "# loader\n",
    "#                 - 26wk WT = 3981, 3984, 3985\n",
    "#                 - 26wk AR = 3980, 3982, 3983\n",
    "data_folders = ['/home/cl2292/project/SBMA/26wk/AR3980',\n",
    "                '/home/cl2292/project/SBMA/26wk/AR3982',\n",
    "                '/home/cl2292/project/SBMA/26wk/AR3983',\n",
    "                '/home/cl2292/project/SBMA/26wk/WT3981',\n",
    "                '/home/cl2292/project/SBMA/26wk/WT3984',\n",
    "                '/home/cl2292/project/SBMA/26wk/WT3985',\n",
    "#                 - 52wk WT = 3820, 3825, 3829\n",
    "#                 - 52wk AR = 3819, 3821, 3832               \n",
    "                '/home/cl2292/project/SBMA/52wk/AR3819',\n",
    "                '/home/cl2292/project/SBMA/52wk/AR3821',\n",
    "                '/home/cl2292/project/SBMA/52wk/AR3832',\n",
    "                '/home/cl2292/project/SBMA/52wk/WT3820',\n",
    "                '/home/cl2292/project/SBMA/52wk/WT3825',\n",
    "                '/home/cl2292/project/SBMA/52wk/WT3829',\n",
    "               ]\n",
    "\n",
    "files_not_found = []\n",
    "for i in data_folders :\n",
    "    if not os.path.exists(i) :\n",
    "        files_not_found.append(i)\n",
    "    if not files_not_found == [] :\n",
    "        print('Folders not found...')\n",
    "        for j in files_not_found :\n",
    "            print(j)\n",
    "        raise IOError('Change path to data')\n",
    "\n",
    "total = time.time()\n"
   ]
  },
  {
   "cell_type": "code",
   "execution_count": 4,
   "id": "0399460f",
   "metadata": {},
   "outputs": [],
   "source": [
    "def anndata_from_h5(file: str,\n",
    "                    analyzed_barcodes_only: bool = True) -> 'anndata.AnnData':\n",
    "    \"\"\"Load an output h5 file into an AnnData object for downstream work.\n",
    "\n",
    "    Args:\n",
    "        file: The h5 file\n",
    "        analyzed_barcodes_only: False to load all barcodes, so that the size of\n",
    "            the AnnData object will match the size of the input raw count matrix.\n",
    "            True to load a limited set of barcodes: only those analyzed by the\n",
    "            algorithm. This allows relevant latent variables to be loaded\n",
    "            properly into adata.obs and adata.obsm, rather than adata.uns.\n",
    "\n",
    "    Returns:\n",
    "        adata: The anndata object, populated with inferred latent variables\n",
    "            and metadata.\n",
    "\n",
    "    \"\"\"\n",
    "\n",
    "    d = dict_from_h5(file)\n",
    "    X = sp.csc_matrix((d.pop('data'), d.pop('indices'), d.pop('indptr')),\n",
    "                      shape=d.pop('shape')).transpose().tocsr()\n",
    "\n",
    "    # check and see if we have barcode index annotations, and if the file is filtered\n",
    "    barcode_key = [k for k in d.keys() if (('barcode' in k) and ('ind' in k))]\n",
    "    if len(barcode_key) > 0:\n",
    "        max_barcode_ind = d[barcode_key[0]].max()\n",
    "        filtered_file = (max_barcode_ind >= X.shape[0])\n",
    "    else:\n",
    "        filtered_file = True\n",
    "\n",
    "    if analyzed_barcodes_only:\n",
    "        if filtered_file:\n",
    "            # filtered file being read, so we don't need to subset\n",
    "            print('Assuming we are loading a \"filtered\" file that contains only cells.')\n",
    "            pass\n",
    "        elif 'barcode_indices_for_latents' in d.keys():\n",
    "            X = X[d['barcode_indices_for_latents'], :]\n",
    "            d['barcodes'] = d['barcodes'][d['barcode_indices_for_latents']]\n",
    "        elif 'barcodes_analyzed_inds' in d.keys():\n",
    "            X = X[d['barcodes_analyzed_inds'], :]\n",
    "            d['barcodes'] = d['barcodes'][d['barcodes_analyzed_inds']]\n",
    "        else:\n",
    "            print('Warning: analyzed_barcodes_only=True, but the key '\n",
    "                  '\"barcodes_analyzed_inds\" or \"barcode_indices_for_latents\" '\n",
    "                  'is missing from the h5 file. '\n",
    "                  'Will output all barcodes, and proceed as if '\n",
    "                  'analyzed_barcodes_only=False')\n",
    "\n",
    "    # Construct the anndata object.\n",
    "    adata = anndata.AnnData(X=X,\n",
    "                            obs={'barcode': d.pop('barcodes').astype(str)},\n",
    "                            var={'gene_name': (d.pop('gene_names') if 'gene_names' in d.keys()\n",
    "                                               else d.pop('name')).astype(str)},\n",
    "                            dtype=X.dtype)\n",
    "    adata.obs.set_index('barcode', inplace=True)\n",
    "    adata.var.set_index('gene_name', inplace=True)\n",
    "\n",
    "    # For CellRanger v2 legacy format, \"gene_ids\" was called \"genes\"... rename this\n",
    "    if 'genes' in d.keys():\n",
    "        d['id'] = d.pop('genes')\n",
    "\n",
    "    # For purely aesthetic purposes, rename \"id\" to \"gene_id\"\n",
    "    if 'id' in d.keys():\n",
    "        d['gene_id'] = d.pop('id')\n",
    "\n",
    "    # If genomes are empty, try to guess them based on gene_id\n",
    "    if 'genome' in d.keys():\n",
    "        if np.array([s.decode() == '' for s in d['genome']]).all():\n",
    "            if '_' in d['gene_id'][0].decode():\n",
    "                print('Genome field blank, so attempting to guess genomes based on gene_id prefixes')\n",
    "                d['genome'] = np.array([s.decode().split('_')[0] for s in d['gene_id']], dtype=str)\n",
    "\n",
    "    # Add other information to the anndata object in the appropriate slot.\n",
    "    _fill_adata_slots_automatically(adata, d)\n",
    "\n",
    "    # Add a special additional field to .var if it exists.\n",
    "    if 'features_analyzed_inds' in adata.uns.keys():\n",
    "        adata.var['cellbender_analyzed'] = [True if (i in adata.uns['features_analyzed_inds'])\n",
    "                                            else False for i in range(adata.shape[1])]\n",
    "\n",
    "    if analyzed_barcodes_only:\n",
    "        for col in adata.obs.columns[adata.obs.columns.str.startswith('barcodes_analyzed')\n",
    "                                     | adata.obs.columns.str.startswith('barcode_indices')]:\n",
    "            try:\n",
    "                del adata.obs[col]\n",
    "            except Exception:\n",
    "                pass\n",
    "    else:\n",
    "        # Add a special additional field to .obs if all barcodes are included.\n",
    "        if 'barcodes_analyzed_inds' in adata.uns.keys():\n",
    "            adata.obs['cellbender_analyzed'] = [True if (i in adata.uns['barcodes_analyzed_inds'])\n",
    "                                                else False for i in range(adata.shape[0])]\n",
    "\n",
    "    return adata\n",
    "\n",
    "\n",
    "def dict_from_h5(file: str) -> Dict[str, np.ndarray]:\n",
    "    \"\"\"Read in everything from an h5 file and put into a dictionary.\"\"\"\n",
    "    d = {}\n",
    "    with tables.open_file(file) as f:\n",
    "        # read in everything\n",
    "        for array in f.walk_nodes(\"/\", \"Array\"):\n",
    "            d[array.name] = array.read()\n",
    "    return d\n",
    "\n",
    "\n",
    "def _fill_adata_slots_automatically(adata, d):\n",
    "    \"\"\"Add other information to the adata object in the appropriate slot.\"\"\"\n",
    "\n",
    "    for key, value in d.items():\n",
    "        try:\n",
    "            if value is None:\n",
    "                continue\n",
    "            value = np.asarray(value)\n",
    "            if len(value.shape) == 0:\n",
    "                adata.uns[key] = value\n",
    "            elif value.shape[0] == adata.shape[0]:\n",
    "                if (len(value.shape) < 2) or (value.shape[1] < 2):\n",
    "                    adata.obs[key] = value\n",
    "                else:\n",
    "                    adata.obsm[key] = value\n",
    "            elif value.shape[0] == adata.shape[1]:\n",
    "                if value.dtype.name.startswith('bytes'):\n",
    "                    adata.var[key] = value.astype(str)\n",
    "                else:\n",
    "                    adata.var[key] = value\n",
    "            else:\n",
    "                adata.uns[key] = value\n",
    "        except Exception:\n",
    "            print('Unable to load data into AnnData: ', key, value, type(value))"
   ]
  },
  {
   "cell_type": "code",
   "execution_count": 5,
   "id": "42a06bb8",
   "metadata": {
    "scrolled": true
   },
   "outputs": [
    {
     "name": "stdout",
     "output_type": "stream",
     "text": [
      "3980\n",
      "... storing 3980 into dict (1/12)\n",
      "Assuming we are loading a \"filtered\" file that contains only cells.\n",
      "...     read 4145 cells; total: 4145 in 0.40-s\n",
      "3982\n",
      "... storing 3982 into dict (2/12)\n",
      "Assuming we are loading a \"filtered\" file that contains only cells.\n",
      "...     read 3956 cells; total: 8101 in 0.71-s\n",
      "3983\n",
      "... storing 3983 into dict (3/12)\n",
      "Assuming we are loading a \"filtered\" file that contains only cells.\n",
      "...     read 4610 cells; total: 12711 in 1.06-s\n",
      "3981\n",
      "... storing 3981 into dict (4/12)\n",
      "Assuming we are loading a \"filtered\" file that contains only cells.\n",
      "...     read 2680 cells; total: 15391 in 1.44-s\n",
      "3984\n",
      "... storing 3984 into dict (5/12)\n",
      "Assuming we are loading a \"filtered\" file that contains only cells.\n",
      "...     read 4905 cells; total: 20296 in 1.72-s\n",
      "3985\n",
      "... storing 3985 into dict (6/12)\n",
      "Assuming we are loading a \"filtered\" file that contains only cells.\n",
      "...     read 4566 cells; total: 24862 in 2.32-s\n",
      "3819\n",
      "... storing 3819 into dict (7/12)\n",
      "Assuming we are loading a \"filtered\" file that contains only cells.\n",
      "...     read 9374 cells; total: 34236 in 2.94-s\n",
      "3821\n",
      "... storing 3821 into dict (8/12)\n",
      "Assuming we are loading a \"filtered\" file that contains only cells.\n",
      "...     read 10237 cells; total: 44473 in 3.42-s\n",
      "3832\n",
      "... storing 3832 into dict (9/12)\n",
      "Assuming we are loading a \"filtered\" file that contains only cells.\n",
      "...     read 11270 cells; total: 55743 in 3.95-s\n",
      "3820\n",
      "... storing 3820 into dict (10/12)\n",
      "Assuming we are loading a \"filtered\" file that contains only cells.\n",
      "...     read 8693 cells; total: 64436 in 4.56-s\n",
      "3825\n",
      "... storing 3825 into dict (11/12)\n",
      "Assuming we are loading a \"filtered\" file that contains only cells.\n",
      "...     read 10204 cells; total: 74640 in 4.92-s\n",
      "3829\n",
      "... storing 3829 into dict (12/12)\n",
      "Assuming we are loading a \"filtered\" file that contains only cells.\n",
      "...     read 8831 cells; total: 83471 in 5.38-s\n"
     ]
    }
   ],
   "source": [
    "# Load background-removed samples (CellBender)\n",
    "\n",
    "running_cellcount=0\n",
    "start = time.time()\n",
    "adatas = {}\n",
    "for i,folder in enumerate(data_folders) :\n",
    "    sample_id = os.path.split(folder)[1][2:]\n",
    "    print(sample_id)\n",
    "    print('... storing %s into dict (%d/%d)' % (sample_id,i+1,len(data_folders)))\n",
    "    adatas[sample_id] = anndata_from_h5(folder+'/cellbender_filtered.h5')\n",
    "    running_cellcount+=adatas[sample_id].shape[0]\n",
    "    print('...     read {} cells; total: {} in {:.2f}-s'.format(adatas[sample_id].shape[0],running_cellcount,time.time()-start))\n",
    "batch_names = list(adatas.keys())"
   ]
  },
  {
   "cell_type": "code",
   "execution_count": 6,
   "id": "5f54b6ce",
   "metadata": {
    "scrolled": true
   },
   "outputs": [
    {
     "name": "stderr",
     "output_type": "stream",
     "text": [
      "/gpfs/ycga/project/lim_janghoo/cl2292/conda_envs/af/lib/python3.10/site-packages/anndata/_core/anndata.py:1830: UserWarning: Variable names are not unique. To make them unique, call `.var_names_make_unique`.\n",
      "  utils.warn_names_duplicates(\"var\")\n",
      "/gpfs/ycga/project/lim_janghoo/cl2292/conda_envs/af/lib/python3.10/site-packages/scanpy/external/pp/_scrublet.py:559: FutureWarning: X.dtype being converted to np.float32 from uint32. In the next version of anndata (0.9) conversion will not be automatic. Pass dtype explicitly to avoid this warning. Pass `AnnData(X, dtype=X.dtype, ...)` to get the future behavour.\n",
      "  adata_sim = AnnData(scrub._E_sim)\n",
      "/gpfs/ycga/project/lim_janghoo/cl2292/conda_envs/af/lib/python3.10/site-packages/scanpy/preprocessing/_normalization.py:170: UserWarning: Received a view of an AnnData. Making a copy.\n",
      "  view_to_actual(adata)\n"
     ]
    },
    {
     "name": "stdout",
     "output_type": "stream",
     "text": [
      "Automatically set threshold at doublet score = 0.50\n",
      "Detected doublet rate = 0.0%\n",
      "Estimated detectable doublet fraction = 7.9%\n",
      "Overall doublet rate:\n",
      "\tExpected   = 5.0%\n",
      "\tEstimated  = 0.3%\n"
     ]
    },
    {
     "name": "stderr",
     "output_type": "stream",
     "text": [
      "/gpfs/ycga/project/lim_janghoo/cl2292/conda_envs/af/lib/python3.10/site-packages/anndata/_core/anndata.py:1830: UserWarning: Variable names are not unique. To make them unique, call `.var_names_make_unique`.\n",
      "  utils.warn_names_duplicates(\"var\")\n",
      "/gpfs/ycga/project/lim_janghoo/cl2292/conda_envs/af/lib/python3.10/site-packages/scanpy/external/pp/_scrublet.py:559: FutureWarning: X.dtype being converted to np.float32 from uint32. In the next version of anndata (0.9) conversion will not be automatic. Pass dtype explicitly to avoid this warning. Pass `AnnData(X, dtype=X.dtype, ...)` to get the future behavour.\n",
      "  adata_sim = AnnData(scrub._E_sim)\n",
      "/gpfs/ycga/project/lim_janghoo/cl2292/conda_envs/af/lib/python3.10/site-packages/scanpy/preprocessing/_normalization.py:170: UserWarning: Received a view of an AnnData. Making a copy.\n",
      "  view_to_actual(adata)\n"
     ]
    },
    {
     "name": "stdout",
     "output_type": "stream",
     "text": [
      "Automatically set threshold at doublet score = 0.50\n",
      "Detected doublet rate = 0.0%\n",
      "Estimated detectable doublet fraction = 4.3%\n",
      "Overall doublet rate:\n",
      "\tExpected   = 5.0%\n",
      "\tEstimated  = 0.6%\n"
     ]
    },
    {
     "name": "stderr",
     "output_type": "stream",
     "text": [
      "/gpfs/ycga/project/lim_janghoo/cl2292/conda_envs/af/lib/python3.10/site-packages/anndata/_core/anndata.py:1830: UserWarning: Variable names are not unique. To make them unique, call `.var_names_make_unique`.\n",
      "  utils.warn_names_duplicates(\"var\")\n",
      "/gpfs/ycga/project/lim_janghoo/cl2292/conda_envs/af/lib/python3.10/site-packages/scanpy/external/pp/_scrublet.py:559: FutureWarning: X.dtype being converted to np.float32 from uint32. In the next version of anndata (0.9) conversion will not be automatic. Pass dtype explicitly to avoid this warning. Pass `AnnData(X, dtype=X.dtype, ...)` to get the future behavour.\n",
      "  adata_sim = AnnData(scrub._E_sim)\n",
      "/gpfs/ycga/project/lim_janghoo/cl2292/conda_envs/af/lib/python3.10/site-packages/scanpy/preprocessing/_normalization.py:170: UserWarning: Received a view of an AnnData. Making a copy.\n",
      "  view_to_actual(adata)\n"
     ]
    },
    {
     "name": "stdout",
     "output_type": "stream",
     "text": [
      "Automatically set threshold at doublet score = 0.53\n",
      "Detected doublet rate = 0.1%\n",
      "Estimated detectable doublet fraction = 4.9%\n",
      "Overall doublet rate:\n",
      "\tExpected   = 5.0%\n",
      "\tEstimated  = 1.8%\n"
     ]
    },
    {
     "name": "stderr",
     "output_type": "stream",
     "text": [
      "/gpfs/ycga/project/lim_janghoo/cl2292/conda_envs/af/lib/python3.10/site-packages/anndata/_core/anndata.py:1830: UserWarning: Variable names are not unique. To make them unique, call `.var_names_make_unique`.\n",
      "  utils.warn_names_duplicates(\"var\")\n",
      "/gpfs/ycga/project/lim_janghoo/cl2292/conda_envs/af/lib/python3.10/site-packages/scanpy/external/pp/_scrublet.py:559: FutureWarning: X.dtype being converted to np.float32 from uint32. In the next version of anndata (0.9) conversion will not be automatic. Pass dtype explicitly to avoid this warning. Pass `AnnData(X, dtype=X.dtype, ...)` to get the future behavour.\n",
      "  adata_sim = AnnData(scrub._E_sim)\n",
      "/gpfs/ycga/project/lim_janghoo/cl2292/conda_envs/af/lib/python3.10/site-packages/scanpy/preprocessing/_normalization.py:170: UserWarning: Received a view of an AnnData. Making a copy.\n",
      "  view_to_actual(adata)\n"
     ]
    },
    {
     "name": "stdout",
     "output_type": "stream",
     "text": [
      "Automatically set threshold at doublet score = 0.30\n",
      "Detected doublet rate = 1.0%\n",
      "Estimated detectable doublet fraction = 15.6%\n",
      "Overall doublet rate:\n",
      "\tExpected   = 5.0%\n",
      "\tEstimated  = 6.2%\n"
     ]
    },
    {
     "name": "stderr",
     "output_type": "stream",
     "text": [
      "/gpfs/ycga/project/lim_janghoo/cl2292/conda_envs/af/lib/python3.10/site-packages/anndata/_core/anndata.py:1830: UserWarning: Variable names are not unique. To make them unique, call `.var_names_make_unique`.\n",
      "  utils.warn_names_duplicates(\"var\")\n",
      "/gpfs/ycga/project/lim_janghoo/cl2292/conda_envs/af/lib/python3.10/site-packages/scanpy/external/pp/_scrublet.py:559: FutureWarning: X.dtype being converted to np.float32 from uint32. In the next version of anndata (0.9) conversion will not be automatic. Pass dtype explicitly to avoid this warning. Pass `AnnData(X, dtype=X.dtype, ...)` to get the future behavour.\n",
      "  adata_sim = AnnData(scrub._E_sim)\n",
      "/gpfs/ycga/project/lim_janghoo/cl2292/conda_envs/af/lib/python3.10/site-packages/scanpy/preprocessing/_normalization.py:170: UserWarning: Received a view of an AnnData. Making a copy.\n",
      "  view_to_actual(adata)\n"
     ]
    },
    {
     "name": "stdout",
     "output_type": "stream",
     "text": [
      "Automatically set threshold at doublet score = 0.53\n",
      "Detected doublet rate = 0.0%\n",
      "Estimated detectable doublet fraction = 4.4%\n",
      "Overall doublet rate:\n",
      "\tExpected   = 5.0%\n",
      "\tEstimated  = 0.0%\n"
     ]
    },
    {
     "name": "stderr",
     "output_type": "stream",
     "text": [
      "/gpfs/ycga/project/lim_janghoo/cl2292/conda_envs/af/lib/python3.10/site-packages/anndata/_core/anndata.py:1830: UserWarning: Variable names are not unique. To make them unique, call `.var_names_make_unique`.\n",
      "  utils.warn_names_duplicates(\"var\")\n",
      "/gpfs/ycga/project/lim_janghoo/cl2292/conda_envs/af/lib/python3.10/site-packages/scanpy/external/pp/_scrublet.py:559: FutureWarning: X.dtype being converted to np.float32 from uint32. In the next version of anndata (0.9) conversion will not be automatic. Pass dtype explicitly to avoid this warning. Pass `AnnData(X, dtype=X.dtype, ...)` to get the future behavour.\n",
      "  adata_sim = AnnData(scrub._E_sim)\n",
      "/gpfs/ycga/project/lim_janghoo/cl2292/conda_envs/af/lib/python3.10/site-packages/scanpy/preprocessing/_normalization.py:170: UserWarning: Received a view of an AnnData. Making a copy.\n",
      "  view_to_actual(adata)\n"
     ]
    },
    {
     "name": "stdout",
     "output_type": "stream",
     "text": [
      "Automatically set threshold at doublet score = 0.52\n",
      "Detected doublet rate = 0.1%\n",
      "Estimated detectable doublet fraction = 3.5%\n",
      "Overall doublet rate:\n",
      "\tExpected   = 5.0%\n",
      "\tEstimated  = 1.9%\n"
     ]
    },
    {
     "name": "stderr",
     "output_type": "stream",
     "text": [
      "/gpfs/ycga/project/lim_janghoo/cl2292/conda_envs/af/lib/python3.10/site-packages/anndata/_core/anndata.py:1830: UserWarning: Variable names are not unique. To make them unique, call `.var_names_make_unique`.\n",
      "  utils.warn_names_duplicates(\"var\")\n",
      "/gpfs/ycga/project/lim_janghoo/cl2292/conda_envs/af/lib/python3.10/site-packages/scanpy/external/pp/_scrublet.py:559: FutureWarning: X.dtype being converted to np.float32 from uint32. In the next version of anndata (0.9) conversion will not be automatic. Pass dtype explicitly to avoid this warning. Pass `AnnData(X, dtype=X.dtype, ...)` to get the future behavour.\n",
      "  adata_sim = AnnData(scrub._E_sim)\n",
      "/gpfs/ycga/project/lim_janghoo/cl2292/conda_envs/af/lib/python3.10/site-packages/scanpy/preprocessing/_normalization.py:170: UserWarning: Received a view of an AnnData. Making a copy.\n",
      "  view_to_actual(adata)\n"
     ]
    },
    {
     "name": "stdout",
     "output_type": "stream",
     "text": [
      "Automatically set threshold at doublet score = 0.62\n",
      "Detected doublet rate = 0.0%\n",
      "Estimated detectable doublet fraction = 1.3%\n",
      "Overall doublet rate:\n",
      "\tExpected   = 5.0%\n",
      "\tEstimated  = 0.9%\n"
     ]
    },
    {
     "name": "stderr",
     "output_type": "stream",
     "text": [
      "/gpfs/ycga/project/lim_janghoo/cl2292/conda_envs/af/lib/python3.10/site-packages/anndata/_core/anndata.py:1830: UserWarning: Variable names are not unique. To make them unique, call `.var_names_make_unique`.\n",
      "  utils.warn_names_duplicates(\"var\")\n",
      "/gpfs/ycga/project/lim_janghoo/cl2292/conda_envs/af/lib/python3.10/site-packages/scanpy/external/pp/_scrublet.py:559: FutureWarning: X.dtype being converted to np.float32 from uint32. In the next version of anndata (0.9) conversion will not be automatic. Pass dtype explicitly to avoid this warning. Pass `AnnData(X, dtype=X.dtype, ...)` to get the future behavour.\n",
      "  adata_sim = AnnData(scrub._E_sim)\n",
      "/gpfs/ycga/project/lim_janghoo/cl2292/conda_envs/af/lib/python3.10/site-packages/scanpy/preprocessing/_normalization.py:170: UserWarning: Received a view of an AnnData. Making a copy.\n",
      "  view_to_actual(adata)\n"
     ]
    },
    {
     "name": "stdout",
     "output_type": "stream",
     "text": [
      "Automatically set threshold at doublet score = 0.63\n",
      "Detected doublet rate = 0.0%\n",
      "Estimated detectable doublet fraction = 1.7%\n",
      "Overall doublet rate:\n",
      "\tExpected   = 5.0%\n",
      "\tEstimated  = 2.4%\n"
     ]
    },
    {
     "name": "stderr",
     "output_type": "stream",
     "text": [
      "/gpfs/ycga/project/lim_janghoo/cl2292/conda_envs/af/lib/python3.10/site-packages/anndata/_core/anndata.py:1830: UserWarning: Variable names are not unique. To make them unique, call `.var_names_make_unique`.\n",
      "  utils.warn_names_duplicates(\"var\")\n",
      "/gpfs/ycga/project/lim_janghoo/cl2292/conda_envs/af/lib/python3.10/site-packages/scanpy/external/pp/_scrublet.py:559: FutureWarning: X.dtype being converted to np.float32 from uint32. In the next version of anndata (0.9) conversion will not be automatic. Pass dtype explicitly to avoid this warning. Pass `AnnData(X, dtype=X.dtype, ...)` to get the future behavour.\n",
      "  adata_sim = AnnData(scrub._E_sim)\n",
      "/gpfs/ycga/project/lim_janghoo/cl2292/conda_envs/af/lib/python3.10/site-packages/scanpy/preprocessing/_normalization.py:170: UserWarning: Received a view of an AnnData. Making a copy.\n",
      "  view_to_actual(adata)\n"
     ]
    },
    {
     "name": "stdout",
     "output_type": "stream",
     "text": [
      "Automatically set threshold at doublet score = 0.64\n",
      "Detected doublet rate = 0.0%\n",
      "Estimated detectable doublet fraction = 0.6%\n",
      "Overall doublet rate:\n",
      "\tExpected   = 5.0%\n",
      "\tEstimated  = 2.8%\n"
     ]
    },
    {
     "name": "stderr",
     "output_type": "stream",
     "text": [
      "/gpfs/ycga/project/lim_janghoo/cl2292/conda_envs/af/lib/python3.10/site-packages/anndata/_core/anndata.py:1830: UserWarning: Variable names are not unique. To make them unique, call `.var_names_make_unique`.\n",
      "  utils.warn_names_duplicates(\"var\")\n",
      "/gpfs/ycga/project/lim_janghoo/cl2292/conda_envs/af/lib/python3.10/site-packages/scanpy/external/pp/_scrublet.py:559: FutureWarning: X.dtype being converted to np.float32 from uint32. In the next version of anndata (0.9) conversion will not be automatic. Pass dtype explicitly to avoid this warning. Pass `AnnData(X, dtype=X.dtype, ...)` to get the future behavour.\n",
      "  adata_sim = AnnData(scrub._E_sim)\n",
      "/gpfs/ycga/project/lim_janghoo/cl2292/conda_envs/af/lib/python3.10/site-packages/scanpy/preprocessing/_normalization.py:170: UserWarning: Received a view of an AnnData. Making a copy.\n",
      "  view_to_actual(adata)\n"
     ]
    },
    {
     "name": "stdout",
     "output_type": "stream",
     "text": [
      "Automatically set threshold at doublet score = 0.62\n",
      "Detected doublet rate = 0.0%\n",
      "Estimated detectable doublet fraction = 0.6%\n",
      "Overall doublet rate:\n",
      "\tExpected   = 5.0%\n",
      "\tEstimated  = 5.8%\n"
     ]
    },
    {
     "name": "stderr",
     "output_type": "stream",
     "text": [
      "/gpfs/ycga/project/lim_janghoo/cl2292/conda_envs/af/lib/python3.10/site-packages/anndata/_core/anndata.py:1830: UserWarning: Variable names are not unique. To make them unique, call `.var_names_make_unique`.\n",
      "  utils.warn_names_duplicates(\"var\")\n",
      "/gpfs/ycga/project/lim_janghoo/cl2292/conda_envs/af/lib/python3.10/site-packages/scanpy/external/pp/_scrublet.py:559: FutureWarning: X.dtype being converted to np.float32 from uint32. In the next version of anndata (0.9) conversion will not be automatic. Pass dtype explicitly to avoid this warning. Pass `AnnData(X, dtype=X.dtype, ...)` to get the future behavour.\n",
      "  adata_sim = AnnData(scrub._E_sim)\n",
      "/gpfs/ycga/project/lim_janghoo/cl2292/conda_envs/af/lib/python3.10/site-packages/scanpy/preprocessing/_normalization.py:170: UserWarning: Received a view of an AnnData. Making a copy.\n",
      "  view_to_actual(adata)\n"
     ]
    },
    {
     "name": "stdout",
     "output_type": "stream",
     "text": [
      "Automatically set threshold at doublet score = 0.63\n",
      "Detected doublet rate = 0.0%\n",
      "Estimated detectable doublet fraction = 1.1%\n",
      "Overall doublet rate:\n",
      "\tExpected   = 5.0%\n",
      "\tEstimated  = 1.8%\n"
     ]
    },
    {
     "name": "stderr",
     "output_type": "stream",
     "text": [
      "/gpfs/ycga/project/lim_janghoo/cl2292/conda_envs/af/lib/python3.10/site-packages/anndata/_core/anndata.py:1830: UserWarning: Variable names are not unique. To make them unique, call `.var_names_make_unique`.\n",
      "  utils.warn_names_duplicates(\"var\")\n",
      "/gpfs/ycga/project/lim_janghoo/cl2292/conda_envs/af/lib/python3.10/site-packages/scanpy/external/pp/_scrublet.py:559: FutureWarning: X.dtype being converted to np.float32 from uint32. In the next version of anndata (0.9) conversion will not be automatic. Pass dtype explicitly to avoid this warning. Pass `AnnData(X, dtype=X.dtype, ...)` to get the future behavour.\n",
      "  adata_sim = AnnData(scrub._E_sim)\n",
      "/gpfs/ycga/project/lim_janghoo/cl2292/conda_envs/af/lib/python3.10/site-packages/scanpy/preprocessing/_normalization.py:170: UserWarning: Received a view of an AnnData. Making a copy.\n",
      "  view_to_actual(adata)\n"
     ]
    },
    {
     "name": "stdout",
     "output_type": "stream",
     "text": [
      "Automatically set threshold at doublet score = 0.61\n",
      "Detected doublet rate = 0.1%\n",
      "Estimated detectable doublet fraction = 2.2%\n",
      "Overall doublet rate:\n",
      "\tExpected   = 5.0%\n",
      "\tEstimated  = 4.7%\n",
      "\n",
      "... concatenating of 12-samples\n"
     ]
    },
    {
     "name": "stderr",
     "output_type": "stream",
     "text": [
      "/gpfs/ycga/project/lim_janghoo/cl2292/conda_envs/af/lib/python3.10/site-packages/anndata/_core/anndata.py:1785: FutureWarning: X.dtype being converted to np.float32 from float64. In the next version of anndata (0.9) conversion will not be automatic. Pass dtype explicitly to avoid this warning. Pass `AnnData(X, dtype=X.dtype, ...)` to get the future behavour.\n",
      "  [AnnData(sparse.csr_matrix(a.shape), obs=a.obs) for a in all_adatas],\n"
     ]
    },
    {
     "name": "stdout",
     "output_type": "stream",
     "text": [
      "Ncells=378 are doublets\n"
     ]
    },
    {
     "data": {
      "text/plain": [
       "View of AnnData object with n_obs × n_vars = 83093 × 32285\n",
       "    obs: 'latent_RT_efficiency', 'latent_cell_probability', 'latent_scale', 'doublet_score', 'predicted_doublet', 'batch'\n",
       "    var: 'feature_type', 'genome', 'gene_id', 'ambient_expression-3819', 'ambient_expression-3820', 'ambient_expression-3821', 'ambient_expression-3825', 'ambient_expression-3829', 'ambient_expression-3832', 'ambient_expression-3980', 'ambient_expression-3981', 'ambient_expression-3982', 'ambient_expression-3983', 'ambient_expression-3984', 'ambient_expression-3985'\n",
       "    obsm: 'latent_gene_encoding'"
      ]
     },
     "execution_count": 6,
     "metadata": {},
     "output_type": "execute_result"
    }
   ],
   "source": [
    "## Scrublet\n",
    "\n",
    "for i in batch_names:\n",
    "    sc.external.pp.scrublet(adatas[i])\n",
    "    adatas[i].var_names_make_unique()\n",
    "    adatas[i].obs_names_make_unique()\n",
    "    \n",
    "#merge dataset\n",
    "print('\\n... concatenating of {}-samples'.format(len(data_folders)))\n",
    "adata = adatas[batch_names[0]].concatenate(adatas[batch_names[1]],adatas[batch_names[2]],\n",
    "                                               adatas[batch_names[3]],adatas[batch_names[4]],\n",
    "                                               adatas[batch_names[5]],adatas[batch_names[6]],\n",
    "                                               adatas[batch_names[7]],adatas[batch_names[8]],\n",
    "                                               adatas[batch_names[9]],adatas[batch_names[10]],\n",
    "                                               adatas[batch_names[11]],\n",
    "                                               batch_categories = batch_names)\n",
    "print('Ncells=%d are doublets' % np.sum(adata.obs.predicted_doublet != False))\n",
    "adata = adata[adata.obs.predicted_doublet == False, :]\n",
    "adata"
   ]
  },
  {
   "cell_type": "code",
   "execution_count": 7,
   "id": "87bb1cad",
   "metadata": {
    "scrolled": true
   },
   "outputs": [
    {
     "name": "stderr",
     "output_type": "stream",
     "text": [
      "/tmp/ipykernel_10486/1582014021.py:20: ImplicitModificationWarning: Trying to modify attribute `.obs` of view, initializing view as actual.\n",
      "  adata.obs['genotype']=genotype\n",
      "/gpfs/ycga/project/lim_janghoo/cl2292/conda_envs/af/lib/python3.10/contextlib.py:142: FutureWarning: X.dtype being converted to np.float32 from uint32. In the next version of anndata (0.9) conversion will not be automatic. Pass dtype explicitly to avoid this warning. Pass `AnnData(X, dtype=X.dtype, ...)` to get the future behavour.\n",
      "  next(self.gen)\n"
     ]
    },
    {
     "name": "stdout",
     "output_type": "stream",
     "text": [
      "AnnData object with n_obs × n_vars = 83093 × 32285\n",
      "    obs: 'latent_RT_efficiency', 'latent_cell_probability', 'latent_scale', 'doublet_score', 'predicted_doublet', 'batch', 'genotype', 'timepoint'\n",
      "    var: 'feature_type', 'genome', 'gene_id', 'ambient_expression-3819', 'ambient_expression-3820', 'ambient_expression-3821', 'ambient_expression-3825', 'ambient_expression-3829', 'ambient_expression-3832', 'ambient_expression-3980', 'ambient_expression-3981', 'ambient_expression-3982', 'ambient_expression-3983', 'ambient_expression-3984', 'ambient_expression-3985'\n",
      "    obsm: 'latent_gene_encoding'\n"
     ]
    }
   ],
   "source": [
    "# annotate metadata\n",
    "WT = ['3981', '3984', '3985', #26wk\n",
    "     '3820', '3825', '3829' #52wk\n",
    "     ]\n",
    "AR = ['3980', '3982', '3983', #26wk\n",
    "     '3819', '3821', '3832' #52wk\n",
    "     ]\n",
    "\n",
    "wk26 = ['3981', '3984', '3985','3980', '3982', '3983']\n",
    "wk52 = ['3820', '3825', '3829','3819', '3821', '3832']\n",
    "\n",
    "genotype = []\n",
    "for i in adata.obs['batch'] : # verbose loop for quality-assurance\n",
    "    if i in WT :\n",
    "        genotype.append('WT')\n",
    "    elif i in AR :\n",
    "        genotype.append('AR')   \n",
    "    else :\n",
    "        raise ValueError('Encountered unclassifiable genotype for sample {}'.format(i))\n",
    "adata.obs['genotype']=genotype\n",
    "\n",
    "timepoint = []\n",
    "for i in adata.obs['batch'] :\n",
    "    if i in wk26 :\n",
    "        timepoint.append('26wk')\n",
    "    elif i in wk52 :\n",
    "        timepoint.append('52wk')\n",
    "    else :\n",
    "        raise ValueError('Encountered unclassifiable timepoint for animal {}'.format(i))\n",
    "adata.obs['timepoint']=timepoint\n",
    "\n",
    "print(adata)"
   ]
  },
  {
   "cell_type": "code",
   "execution_count": 9,
   "id": "359cc38b",
   "metadata": {
    "scrolled": true
   },
   "outputs": [
    {
     "name": "stdout",
     "output_type": "stream",
     "text": [
      "Ncells=20249 have >5percent mt expression\n",
      "Ncells=15040 have <700 genes expressed\n"
     ]
    }
   ],
   "source": [
    "# filter cells/genes, transform\n",
    "adata.var['mt'] = adata.var_names.str.startswith('mt-')\n",
    "sc.pp.calculate_qc_metrics(adata, qc_vars=['mt'], inplace=True)\n",
    "print('Ncells=%d have >5percent mt expression' % np.sum(adata.obs['pct_counts_mt']>0.05))\n",
    "print('Ncells=%d have <700 genes expressed' % np.sum(adata.obs['n_genes_by_counts']<700))\n",
    "sc.pp.filter_cells(adata, min_genes=700)\n",
    "sc.pp.filter_genes(adata, min_cells=3) # filtering cells gets rid of some genes of interest\n",
    "adata = adata[adata.obs.pct_counts_mt <= 0.05, :]"
   ]
  },
  {
   "cell_type": "code",
   "execution_count": 27,
   "id": "76699fa5",
   "metadata": {
    "scrolled": false
   },
   "outputs": [
    {
     "name": "stderr",
     "output_type": "stream",
     "text": [
      "/gpfs/ycga/project/lim_janghoo/cl2292/conda_envs/af/lib/python3.10/site-packages/scanpy/plotting/_dotplot.py:749: UserWarning: No data for colormapping provided via 'c'. Parameters 'cmap', 'norm' will be ignored\n",
      "  dot_ax.scatter(x, y, **kwds)\n"
     ]
    }
   ],
   "source": [
    "sc.pl.dotplot(adata, 'Ar', groupby='louvain',)"
   ]
  },
  {
   "cell_type": "code",
   "execution_count": 11,
   "id": "8badb6bb",
   "metadata": {},
   "outputs": [
    {
     "name": "stderr",
     "output_type": "stream",
     "text": [
      "/gpfs/ycga/project/lim_janghoo/cl2292/conda_envs/af/lib/python3.10/site-packages/scanpy/preprocessing/_normalization.py:170: UserWarning: Received a view of an AnnData. Making a copy.\n",
      "  view_to_actual(adata)\n"
     ]
    }
   ],
   "source": [
    "# normalization\n",
    "sc.pp.normalize_total(adata)\n",
    "sc.pp.sqrt(adata,chunked=True,chunk_size=10000)\n",
    "adata.raw = adata"
   ]
  },
  {
   "cell_type": "code",
   "execution_count": 12,
   "id": "a68b72c4",
   "metadata": {},
   "outputs": [
    {
     "name": "stdout",
     "output_type": "stream",
     "text": [
      "starting embeddings...\n"
     ]
    }
   ],
   "source": [
    "# calc embeddings for batch corrected\n",
    "start = time.time()\n",
    "print('starting embeddings...')\n",
    "sc.tl.pca(adata,n_comps=100)\n",
    "#sc.external.pp.bbknn(adata,batch_key='batch')\n",
    "bbknn(adata,batch_key='batch') #pip install bbknn\n",
    "#     sc.pp.neighbors(adata, n_neighbors=100, n_pcs=100)\n",
    "sc.tl.louvain(adata,resolution=3) #pip install python-igraph #pip install louvain\n",
    "sc.tl.umap(adata)"
   ]
  },
  {
   "cell_type": "code",
   "execution_count": 17,
   "id": "727bf711",
   "metadata": {},
   "outputs": [],
   "source": [
    "sc.pl.umap(adata, color = ['batch','genotype','timepoint'], size =1)"
   ]
  },
  {
   "cell_type": "code",
   "execution_count": 14,
   "id": "462acc2c",
   "metadata": {
    "scrolled": true
   },
   "outputs": [
    {
     "name": "stdout",
     "output_type": "stream",
     "text": [
      "3821    8549\n",
      "3825    7890\n",
      "3819    7563\n",
      "3832    7415\n",
      "3820    7030\n",
      "3829    6870\n",
      "3983    2572\n",
      "3980    2530\n",
      "3981    2370\n",
      "3984    2309\n",
      "3985    2032\n",
      "3982    1593\n",
      "Name: batch, dtype: int64\n",
      "52wk    45317\n",
      "26wk    13406\n",
      "Name: timepoint, dtype: int64\n"
     ]
    }
   ],
   "source": [
    "print(adata.obs['batch'].value_counts())\n",
    "print(adata.obs['timepoint'].value_counts())"
   ]
  },
  {
   "cell_type": "code",
   "execution_count": 15,
   "id": "df9e0e03",
   "metadata": {},
   "outputs": [
    {
     "ename": "TypeError",
     "evalue": "Can't implicitly convert non-string objects to strings\n\nAbove error raised while writing key 'predicted_doublet' of <class 'h5py._hl.group.Group'> to /",
     "output_type": "error",
     "traceback": [
      "\u001b[0;31m---------------------------------------------------------------------------\u001b[0m",
      "\u001b[0;31mTypeError\u001b[0m                                 Traceback (most recent call last)",
      "File \u001b[0;32m/gpfs/ycga/project/lim_janghoo/cl2292/conda_envs/af/lib/python3.10/site-packages/anndata/_io/utils.py:214\u001b[0m, in \u001b[0;36mreport_write_key_on_error.<locals>.func_wrapper\u001b[0;34m(elem, key, val, *args, **kwargs)\u001b[0m\n\u001b[1;32m    213\u001b[0m \u001b[38;5;28;01mtry\u001b[39;00m:\n\u001b[0;32m--> 214\u001b[0m     \u001b[38;5;28;01mreturn\u001b[39;00m \u001b[43mfunc\u001b[49m\u001b[43m(\u001b[49m\u001b[43melem\u001b[49m\u001b[43m,\u001b[49m\u001b[43m \u001b[49m\u001b[43mkey\u001b[49m\u001b[43m,\u001b[49m\u001b[43m \u001b[49m\u001b[43mval\u001b[49m\u001b[43m,\u001b[49m\u001b[43m \u001b[49m\u001b[38;5;241;43m*\u001b[39;49m\u001b[43margs\u001b[49m\u001b[43m,\u001b[49m\u001b[43m \u001b[49m\u001b[38;5;241;43m*\u001b[39;49m\u001b[38;5;241;43m*\u001b[39;49m\u001b[43mkwargs\u001b[49m\u001b[43m)\u001b[49m\n\u001b[1;32m    215\u001b[0m \u001b[38;5;28;01mexcept\u001b[39;00m \u001b[38;5;167;01mException\u001b[39;00m \u001b[38;5;28;01mas\u001b[39;00m e:\n",
      "File \u001b[0;32m/gpfs/ycga/project/lim_janghoo/cl2292/conda_envs/af/lib/python3.10/site-packages/anndata/_io/specs/registry.py:171\u001b[0m, in \u001b[0;36mwrite_elem\u001b[0;34m(f, k, elem, modifiers, *args, **kwargs)\u001b[0m\n\u001b[1;32m    167\u001b[0m \u001b[38;5;28;01mif\u001b[39;00m (\n\u001b[1;32m    168\u001b[0m     \u001b[38;5;28mhasattr\u001b[39m(elem, \u001b[38;5;124m\"\u001b[39m\u001b[38;5;124mdtype\u001b[39m\u001b[38;5;124m\"\u001b[39m)\n\u001b[1;32m    169\u001b[0m     \u001b[38;5;129;01mand\u001b[39;00m (dest_type, (t, elem\u001b[38;5;241m.\u001b[39mdtype\u001b[38;5;241m.\u001b[39mkind), modifiers) \u001b[38;5;129;01min\u001b[39;00m _REGISTRY\u001b[38;5;241m.\u001b[39mwrite\n\u001b[1;32m    170\u001b[0m ):\n\u001b[0;32m--> 171\u001b[0m     \u001b[43m_REGISTRY\u001b[49m\u001b[38;5;241;43m.\u001b[39;49m\u001b[43mget_writer\u001b[49m\u001b[43m(\u001b[49m\u001b[43mdest_type\u001b[49m\u001b[43m,\u001b[49m\u001b[43m \u001b[49m\u001b[43m(\u001b[49m\u001b[43mt\u001b[49m\u001b[43m,\u001b[49m\u001b[43m \u001b[49m\u001b[43melem\u001b[49m\u001b[38;5;241;43m.\u001b[39;49m\u001b[43mdtype\u001b[49m\u001b[38;5;241;43m.\u001b[39;49m\u001b[43mkind\u001b[49m\u001b[43m)\u001b[49m\u001b[43m,\u001b[49m\u001b[43m \u001b[49m\u001b[43mmodifiers\u001b[49m\u001b[43m)\u001b[49m\u001b[43m(\u001b[49m\n\u001b[1;32m    172\u001b[0m \u001b[43m        \u001b[49m\u001b[43mf\u001b[49m\u001b[43m,\u001b[49m\u001b[43m \u001b[49m\u001b[43mk\u001b[49m\u001b[43m,\u001b[49m\u001b[43m \u001b[49m\u001b[43melem\u001b[49m\u001b[43m,\u001b[49m\u001b[43m \u001b[49m\u001b[38;5;241;43m*\u001b[39;49m\u001b[43margs\u001b[49m\u001b[43m,\u001b[49m\u001b[43m \u001b[49m\u001b[38;5;241;43m*\u001b[39;49m\u001b[38;5;241;43m*\u001b[39;49m\u001b[43mkwargs\u001b[49m\n\u001b[1;32m    173\u001b[0m \u001b[43m    \u001b[49m\u001b[43m)\u001b[49m\n\u001b[1;32m    174\u001b[0m \u001b[38;5;28;01melse\u001b[39;00m:\n",
      "File \u001b[0;32m/gpfs/ycga/project/lim_janghoo/cl2292/conda_envs/af/lib/python3.10/site-packages/anndata/_io/specs/registry.py:24\u001b[0m, in \u001b[0;36mwrite_spec.<locals>.decorator.<locals>.wrapper\u001b[0;34m(g, k, *args, **kwargs)\u001b[0m\n\u001b[1;32m     22\u001b[0m \u001b[38;5;129m@wraps\u001b[39m(func)\n\u001b[1;32m     23\u001b[0m \u001b[38;5;28;01mdef\u001b[39;00m \u001b[38;5;21mwrapper\u001b[39m(g, k, \u001b[38;5;241m*\u001b[39margs, \u001b[38;5;241m*\u001b[39m\u001b[38;5;241m*\u001b[39mkwargs):\n\u001b[0;32m---> 24\u001b[0m     result \u001b[38;5;241m=\u001b[39m \u001b[43mfunc\u001b[49m\u001b[43m(\u001b[49m\u001b[43mg\u001b[49m\u001b[43m,\u001b[49m\u001b[43m \u001b[49m\u001b[43mk\u001b[49m\u001b[43m,\u001b[49m\u001b[43m \u001b[49m\u001b[38;5;241;43m*\u001b[39;49m\u001b[43margs\u001b[49m\u001b[43m,\u001b[49m\u001b[43m \u001b[49m\u001b[38;5;241;43m*\u001b[39;49m\u001b[38;5;241;43m*\u001b[39;49m\u001b[43mkwargs\u001b[49m\u001b[43m)\u001b[49m\n\u001b[1;32m     25\u001b[0m     g[k]\u001b[38;5;241m.\u001b[39mattrs\u001b[38;5;241m.\u001b[39msetdefault(\u001b[38;5;124m\"\u001b[39m\u001b[38;5;124mencoding-type\u001b[39m\u001b[38;5;124m\"\u001b[39m, spec\u001b[38;5;241m.\u001b[39mencoding_type)\n",
      "File \u001b[0;32m/gpfs/ycga/project/lim_janghoo/cl2292/conda_envs/af/lib/python3.10/site-packages/anndata/_io/specs/methods.py:346\u001b[0m, in \u001b[0;36mwrite_vlen_string_array\u001b[0;34m(f, k, elem, dataset_kwargs)\u001b[0m\n\u001b[1;32m    345\u001b[0m str_dtype \u001b[38;5;241m=\u001b[39m h5py\u001b[38;5;241m.\u001b[39mspecial_dtype(vlen\u001b[38;5;241m=\u001b[39m\u001b[38;5;28mstr\u001b[39m)\n\u001b[0;32m--> 346\u001b[0m \u001b[43mf\u001b[49m\u001b[38;5;241;43m.\u001b[39;49m\u001b[43mcreate_dataset\u001b[49m\u001b[43m(\u001b[49m\u001b[43mk\u001b[49m\u001b[43m,\u001b[49m\u001b[43m \u001b[49m\u001b[43mdata\u001b[49m\u001b[38;5;241;43m=\u001b[39;49m\u001b[43melem\u001b[49m\u001b[38;5;241;43m.\u001b[39;49m\u001b[43mastype\u001b[49m\u001b[43m(\u001b[49m\u001b[43mstr_dtype\u001b[49m\u001b[43m)\u001b[49m\u001b[43m,\u001b[49m\u001b[43m \u001b[49m\u001b[43mdtype\u001b[49m\u001b[38;5;241;43m=\u001b[39;49m\u001b[43mstr_dtype\u001b[49m\u001b[43m,\u001b[49m\u001b[43m \u001b[49m\u001b[38;5;241;43m*\u001b[39;49m\u001b[38;5;241;43m*\u001b[39;49m\u001b[43mdataset_kwargs\u001b[49m\u001b[43m)\u001b[49m\n",
      "File \u001b[0;32m/gpfs/ycga/project/lim_janghoo/cl2292/conda_envs/af/lib/python3.10/site-packages/h5py/_hl/group.py:161\u001b[0m, in \u001b[0;36mGroup.create_dataset\u001b[0;34m(self, name, shape, dtype, data, **kwds)\u001b[0m\n\u001b[1;32m    159\u001b[0m         group \u001b[38;5;241m=\u001b[39m \u001b[38;5;28mself\u001b[39m\u001b[38;5;241m.\u001b[39mrequire_group(parent_path)\n\u001b[0;32m--> 161\u001b[0m dsid \u001b[38;5;241m=\u001b[39m \u001b[43mdataset\u001b[49m\u001b[38;5;241;43m.\u001b[39;49m\u001b[43mmake_new_dset\u001b[49m\u001b[43m(\u001b[49m\u001b[43mgroup\u001b[49m\u001b[43m,\u001b[49m\u001b[43m \u001b[49m\u001b[43mshape\u001b[49m\u001b[43m,\u001b[49m\u001b[43m \u001b[49m\u001b[43mdtype\u001b[49m\u001b[43m,\u001b[49m\u001b[43m \u001b[49m\u001b[43mdata\u001b[49m\u001b[43m,\u001b[49m\u001b[43m \u001b[49m\u001b[43mname\u001b[49m\u001b[43m,\u001b[49m\u001b[43m \u001b[49m\u001b[38;5;241;43m*\u001b[39;49m\u001b[38;5;241;43m*\u001b[39;49m\u001b[43mkwds\u001b[49m\u001b[43m)\u001b[49m\n\u001b[1;32m    162\u001b[0m dset \u001b[38;5;241m=\u001b[39m dataset\u001b[38;5;241m.\u001b[39mDataset(dsid)\n",
      "File \u001b[0;32m/gpfs/ycga/project/lim_janghoo/cl2292/conda_envs/af/lib/python3.10/site-packages/h5py/_hl/dataset.py:159\u001b[0m, in \u001b[0;36mmake_new_dset\u001b[0;34m(parent, shape, dtype, data, name, chunks, compression, shuffle, fletcher32, maxshape, compression_opts, fillvalue, scaleoffset, track_times, external, track_order, dcpl, dapl, efile_prefix, virtual_prefix, allow_unknown_filter)\u001b[0m\n\u001b[1;32m    158\u001b[0m \u001b[38;5;28;01mif\u001b[39;00m (data \u001b[38;5;129;01mis\u001b[39;00m \u001b[38;5;129;01mnot\u001b[39;00m \u001b[38;5;28;01mNone\u001b[39;00m) \u001b[38;5;129;01mand\u001b[39;00m (\u001b[38;5;129;01mnot\u001b[39;00m \u001b[38;5;28misinstance\u001b[39m(data, Empty)):\n\u001b[0;32m--> 159\u001b[0m     \u001b[43mdset_id\u001b[49m\u001b[38;5;241;43m.\u001b[39;49m\u001b[43mwrite\u001b[49m\u001b[43m(\u001b[49m\u001b[43mh5s\u001b[49m\u001b[38;5;241;43m.\u001b[39;49m\u001b[43mALL\u001b[49m\u001b[43m,\u001b[49m\u001b[43m \u001b[49m\u001b[43mh5s\u001b[49m\u001b[38;5;241;43m.\u001b[39;49m\u001b[43mALL\u001b[49m\u001b[43m,\u001b[49m\u001b[43m \u001b[49m\u001b[43mdata\u001b[49m\u001b[43m)\u001b[49m\n\u001b[1;32m    161\u001b[0m \u001b[38;5;28;01mreturn\u001b[39;00m dset_id\n",
      "File \u001b[0;32mh5py/_objects.pyx:54\u001b[0m, in \u001b[0;36mh5py._objects.with_phil.wrapper\u001b[0;34m()\u001b[0m\n",
      "File \u001b[0;32mh5py/_objects.pyx:55\u001b[0m, in \u001b[0;36mh5py._objects.with_phil.wrapper\u001b[0;34m()\u001b[0m\n",
      "File \u001b[0;32mh5py/h5d.pyx:232\u001b[0m, in \u001b[0;36mh5py.h5d.DatasetID.write\u001b[0;34m()\u001b[0m\n",
      "File \u001b[0;32mh5py/_proxy.pyx:145\u001b[0m, in \u001b[0;36mh5py._proxy.dset_rw\u001b[0;34m()\u001b[0m\n",
      "File \u001b[0;32mh5py/_conv.pyx:444\u001b[0m, in \u001b[0;36mh5py._conv.str2vlen\u001b[0;34m()\u001b[0m\n",
      "File \u001b[0;32mh5py/_conv.pyx:95\u001b[0m, in \u001b[0;36mh5py._conv.generic_converter\u001b[0;34m()\u001b[0m\n",
      "File \u001b[0;32mh5py/_conv.pyx:249\u001b[0m, in \u001b[0;36mh5py._conv.conv_str2vlen\u001b[0;34m()\u001b[0m\n",
      "\u001b[0;31mTypeError\u001b[0m: Can't implicitly convert non-string objects to strings",
      "\nThe above exception was the direct cause of the following exception:\n",
      "\u001b[0;31mTypeError\u001b[0m                                 Traceback (most recent call last)",
      "Cell \u001b[0;32mIn[15], line 2\u001b[0m\n\u001b[1;32m      1\u001b[0m \u001b[38;5;66;03m# save data objects\u001b[39;00m\n\u001b[0;32m----> 2\u001b[0m \u001b[43madata\u001b[49m\u001b[38;5;241;43m.\u001b[39;49m\u001b[43mwrite\u001b[49m\u001b[43m(\u001b[49m\u001b[43mos\u001b[49m\u001b[38;5;241;43m.\u001b[39;49m\u001b[43mpath\u001b[49m\u001b[38;5;241;43m.\u001b[39;49m\u001b[43mjoin\u001b[49m\u001b[43m(\u001b[49m\u001b[43mpdfp\u001b[49m\u001b[43m,\u001b[49m\u001b[38;5;124;43m'\u001b[39;49m\u001b[38;5;124;43m230128_26&52wk.h5ad\u001b[39;49m\u001b[38;5;124;43m'\u001b[39;49m\u001b[43m)\u001b[49m\u001b[43m)\u001b[49m\n\u001b[1;32m      3\u001b[0m \u001b[38;5;28mprint\u001b[39m(\u001b[38;5;124m'\u001b[39m\u001b[38;5;124msaved @\u001b[39m\u001b[38;5;124m'\u001b[39m\u001b[38;5;241m+\u001b[39mdatetime\u001b[38;5;241m.\u001b[39mdatetime\u001b[38;5;241m.\u001b[39mnow()\u001b[38;5;241m.\u001b[39mstrftime(\u001b[38;5;124m'\u001b[39m\u001b[38;5;124m%\u001b[39m\u001b[38;5;124my\u001b[39m\u001b[38;5;124m%\u001b[39m\u001b[38;5;124mm\u001b[39m\u001b[38;5;132;01m%d\u001b[39;00m\u001b[38;5;124m.\u001b[39m\u001b[38;5;124m%\u001b[39m\u001b[38;5;124mH:\u001b[39m\u001b[38;5;124m%\u001b[39m\u001b[38;5;124mM:\u001b[39m\u001b[38;5;124m%\u001b[39m\u001b[38;5;124mS\u001b[39m\u001b[38;5;124m'\u001b[39m))\n",
      "File \u001b[0;32m/gpfs/ycga/project/lim_janghoo/cl2292/conda_envs/af/lib/python3.10/site-packages/anndata/_core/anndata.py:1918\u001b[0m, in \u001b[0;36mAnnData.write_h5ad\u001b[0;34m(self, filename, compression, compression_opts, force_dense, as_dense)\u001b[0m\n\u001b[1;32m   1915\u001b[0m \u001b[38;5;28;01mif\u001b[39;00m filename \u001b[38;5;129;01mis\u001b[39;00m \u001b[38;5;28;01mNone\u001b[39;00m:\n\u001b[1;32m   1916\u001b[0m     filename \u001b[38;5;241m=\u001b[39m \u001b[38;5;28mself\u001b[39m\u001b[38;5;241m.\u001b[39mfilename\n\u001b[0;32m-> 1918\u001b[0m \u001b[43m_write_h5ad\u001b[49m\u001b[43m(\u001b[49m\n\u001b[1;32m   1919\u001b[0m \u001b[43m    \u001b[49m\u001b[43mPath\u001b[49m\u001b[43m(\u001b[49m\u001b[43mfilename\u001b[49m\u001b[43m)\u001b[49m\u001b[43m,\u001b[49m\n\u001b[1;32m   1920\u001b[0m \u001b[43m    \u001b[49m\u001b[38;5;28;43mself\u001b[39;49m\u001b[43m,\u001b[49m\n\u001b[1;32m   1921\u001b[0m \u001b[43m    \u001b[49m\u001b[43mcompression\u001b[49m\u001b[38;5;241;43m=\u001b[39;49m\u001b[43mcompression\u001b[49m\u001b[43m,\u001b[49m\n\u001b[1;32m   1922\u001b[0m \u001b[43m    \u001b[49m\u001b[43mcompression_opts\u001b[49m\u001b[38;5;241;43m=\u001b[39;49m\u001b[43mcompression_opts\u001b[49m\u001b[43m,\u001b[49m\n\u001b[1;32m   1923\u001b[0m \u001b[43m    \u001b[49m\u001b[43mforce_dense\u001b[49m\u001b[38;5;241;43m=\u001b[39;49m\u001b[43mforce_dense\u001b[49m\u001b[43m,\u001b[49m\n\u001b[1;32m   1924\u001b[0m \u001b[43m    \u001b[49m\u001b[43mas_dense\u001b[49m\u001b[38;5;241;43m=\u001b[39;49m\u001b[43mas_dense\u001b[49m\u001b[43m,\u001b[49m\n\u001b[1;32m   1925\u001b[0m \u001b[43m\u001b[49m\u001b[43m)\u001b[49m\n\u001b[1;32m   1927\u001b[0m \u001b[38;5;28;01mif\u001b[39;00m \u001b[38;5;28mself\u001b[39m\u001b[38;5;241m.\u001b[39misbacked:\n\u001b[1;32m   1928\u001b[0m     \u001b[38;5;28mself\u001b[39m\u001b[38;5;241m.\u001b[39mfile\u001b[38;5;241m.\u001b[39mfilename \u001b[38;5;241m=\u001b[39m filename\n",
      "File \u001b[0;32m/gpfs/ycga/project/lim_janghoo/cl2292/conda_envs/af/lib/python3.10/site-packages/anndata/_io/h5ad.py:98\u001b[0m, in \u001b[0;36mwrite_h5ad\u001b[0;34m(filepath, adata, force_dense, as_dense, dataset_kwargs, **kwargs)\u001b[0m\n\u001b[1;32m     96\u001b[0m \u001b[38;5;28;01melif\u001b[39;00m adata\u001b[38;5;241m.\u001b[39mraw \u001b[38;5;129;01mis\u001b[39;00m \u001b[38;5;129;01mnot\u001b[39;00m \u001b[38;5;28;01mNone\u001b[39;00m:\n\u001b[1;32m     97\u001b[0m     write_elem(f, \u001b[38;5;124m\"\u001b[39m\u001b[38;5;124mraw\u001b[39m\u001b[38;5;124m\"\u001b[39m, adata\u001b[38;5;241m.\u001b[39mraw, dataset_kwargs\u001b[38;5;241m=\u001b[39mdataset_kwargs)\n\u001b[0;32m---> 98\u001b[0m \u001b[43mwrite_elem\u001b[49m\u001b[43m(\u001b[49m\u001b[43mf\u001b[49m\u001b[43m,\u001b[49m\u001b[43m \u001b[49m\u001b[38;5;124;43m\"\u001b[39;49m\u001b[38;5;124;43mobs\u001b[39;49m\u001b[38;5;124;43m\"\u001b[39;49m\u001b[43m,\u001b[49m\u001b[43m \u001b[49m\u001b[43madata\u001b[49m\u001b[38;5;241;43m.\u001b[39;49m\u001b[43mobs\u001b[49m\u001b[43m,\u001b[49m\u001b[43m \u001b[49m\u001b[43mdataset_kwargs\u001b[49m\u001b[38;5;241;43m=\u001b[39;49m\u001b[43mdataset_kwargs\u001b[49m\u001b[43m)\u001b[49m\n\u001b[1;32m     99\u001b[0m write_elem(f, \u001b[38;5;124m\"\u001b[39m\u001b[38;5;124mvar\u001b[39m\u001b[38;5;124m\"\u001b[39m, adata\u001b[38;5;241m.\u001b[39mvar, dataset_kwargs\u001b[38;5;241m=\u001b[39mdataset_kwargs)\n\u001b[1;32m    100\u001b[0m write_elem(f, \u001b[38;5;124m\"\u001b[39m\u001b[38;5;124mobsm\u001b[39m\u001b[38;5;124m\"\u001b[39m, \u001b[38;5;28mdict\u001b[39m(adata\u001b[38;5;241m.\u001b[39mobsm), dataset_kwargs\u001b[38;5;241m=\u001b[39mdataset_kwargs)\n",
      "File \u001b[0;32m/gpfs/ycga/project/lim_janghoo/cl2292/conda_envs/af/lib/python3.10/site-packages/anndata/_io/utils.py:214\u001b[0m, in \u001b[0;36mreport_write_key_on_error.<locals>.func_wrapper\u001b[0;34m(elem, key, val, *args, **kwargs)\u001b[0m\n\u001b[1;32m    211\u001b[0m \u001b[38;5;129m@wraps\u001b[39m(func)\n\u001b[1;32m    212\u001b[0m \u001b[38;5;28;01mdef\u001b[39;00m \u001b[38;5;21mfunc_wrapper\u001b[39m(elem, key, val, \u001b[38;5;241m*\u001b[39margs, \u001b[38;5;241m*\u001b[39m\u001b[38;5;241m*\u001b[39mkwargs):\n\u001b[1;32m    213\u001b[0m     \u001b[38;5;28;01mtry\u001b[39;00m:\n\u001b[0;32m--> 214\u001b[0m         \u001b[38;5;28;01mreturn\u001b[39;00m \u001b[43mfunc\u001b[49m\u001b[43m(\u001b[49m\u001b[43melem\u001b[49m\u001b[43m,\u001b[49m\u001b[43m \u001b[49m\u001b[43mkey\u001b[49m\u001b[43m,\u001b[49m\u001b[43m \u001b[49m\u001b[43mval\u001b[49m\u001b[43m,\u001b[49m\u001b[43m \u001b[49m\u001b[38;5;241;43m*\u001b[39;49m\u001b[43margs\u001b[49m\u001b[43m,\u001b[49m\u001b[43m \u001b[49m\u001b[38;5;241;43m*\u001b[39;49m\u001b[38;5;241;43m*\u001b[39;49m\u001b[43mkwargs\u001b[49m\u001b[43m)\u001b[49m\n\u001b[1;32m    215\u001b[0m     \u001b[38;5;28;01mexcept\u001b[39;00m \u001b[38;5;167;01mException\u001b[39;00m \u001b[38;5;28;01mas\u001b[39;00m e:\n\u001b[1;32m    216\u001b[0m         \u001b[38;5;28;01mif\u001b[39;00m \u001b[38;5;124m\"\u001b[39m\u001b[38;5;124mAbove error raised while writing key\u001b[39m\u001b[38;5;124m\"\u001b[39m \u001b[38;5;129;01min\u001b[39;00m \u001b[38;5;28mformat\u001b[39m(e):\n",
      "File \u001b[0;32m/gpfs/ycga/project/lim_janghoo/cl2292/conda_envs/af/lib/python3.10/site-packages/anndata/_io/specs/registry.py:175\u001b[0m, in \u001b[0;36mwrite_elem\u001b[0;34m(f, k, elem, modifiers, *args, **kwargs)\u001b[0m\n\u001b[1;32m    171\u001b[0m     _REGISTRY\u001b[38;5;241m.\u001b[39mget_writer(dest_type, (t, elem\u001b[38;5;241m.\u001b[39mdtype\u001b[38;5;241m.\u001b[39mkind), modifiers)(\n\u001b[1;32m    172\u001b[0m         f, k, elem, \u001b[38;5;241m*\u001b[39margs, \u001b[38;5;241m*\u001b[39m\u001b[38;5;241m*\u001b[39mkwargs\n\u001b[1;32m    173\u001b[0m     )\n\u001b[1;32m    174\u001b[0m \u001b[38;5;28;01melse\u001b[39;00m:\n\u001b[0;32m--> 175\u001b[0m     \u001b[43m_REGISTRY\u001b[49m\u001b[38;5;241;43m.\u001b[39;49m\u001b[43mget_writer\u001b[49m\u001b[43m(\u001b[49m\u001b[43mdest_type\u001b[49m\u001b[43m,\u001b[49m\u001b[43m \u001b[49m\u001b[43mt\u001b[49m\u001b[43m,\u001b[49m\u001b[43m \u001b[49m\u001b[43mmodifiers\u001b[49m\u001b[43m)\u001b[49m\u001b[43m(\u001b[49m\u001b[43mf\u001b[49m\u001b[43m,\u001b[49m\u001b[43m \u001b[49m\u001b[43mk\u001b[49m\u001b[43m,\u001b[49m\u001b[43m \u001b[49m\u001b[43melem\u001b[49m\u001b[43m,\u001b[49m\u001b[43m \u001b[49m\u001b[38;5;241;43m*\u001b[39;49m\u001b[43margs\u001b[49m\u001b[43m,\u001b[49m\u001b[43m \u001b[49m\u001b[38;5;241;43m*\u001b[39;49m\u001b[38;5;241;43m*\u001b[39;49m\u001b[43mkwargs\u001b[49m\u001b[43m)\u001b[49m\n",
      "File \u001b[0;32m/gpfs/ycga/project/lim_janghoo/cl2292/conda_envs/af/lib/python3.10/site-packages/anndata/_io/specs/registry.py:24\u001b[0m, in \u001b[0;36mwrite_spec.<locals>.decorator.<locals>.wrapper\u001b[0;34m(g, k, *args, **kwargs)\u001b[0m\n\u001b[1;32m     22\u001b[0m \u001b[38;5;129m@wraps\u001b[39m(func)\n\u001b[1;32m     23\u001b[0m \u001b[38;5;28;01mdef\u001b[39;00m \u001b[38;5;21mwrapper\u001b[39m(g, k, \u001b[38;5;241m*\u001b[39margs, \u001b[38;5;241m*\u001b[39m\u001b[38;5;241m*\u001b[39mkwargs):\n\u001b[0;32m---> 24\u001b[0m     result \u001b[38;5;241m=\u001b[39m \u001b[43mfunc\u001b[49m\u001b[43m(\u001b[49m\u001b[43mg\u001b[49m\u001b[43m,\u001b[49m\u001b[43m \u001b[49m\u001b[43mk\u001b[49m\u001b[43m,\u001b[49m\u001b[43m \u001b[49m\u001b[38;5;241;43m*\u001b[39;49m\u001b[43margs\u001b[49m\u001b[43m,\u001b[49m\u001b[43m \u001b[49m\u001b[38;5;241;43m*\u001b[39;49m\u001b[38;5;241;43m*\u001b[39;49m\u001b[43mkwargs\u001b[49m\u001b[43m)\u001b[49m\n\u001b[1;32m     25\u001b[0m     g[k]\u001b[38;5;241m.\u001b[39mattrs\u001b[38;5;241m.\u001b[39msetdefault(\u001b[38;5;124m\"\u001b[39m\u001b[38;5;124mencoding-type\u001b[39m\u001b[38;5;124m\"\u001b[39m, spec\u001b[38;5;241m.\u001b[39mencoding_type)\n\u001b[1;32m     26\u001b[0m     g[k]\u001b[38;5;241m.\u001b[39mattrs\u001b[38;5;241m.\u001b[39msetdefault(\u001b[38;5;124m\"\u001b[39m\u001b[38;5;124mencoding-version\u001b[39m\u001b[38;5;124m\"\u001b[39m, spec\u001b[38;5;241m.\u001b[39mencoding_version)\n",
      "File \u001b[0;32m/gpfs/ycga/project/lim_janghoo/cl2292/conda_envs/af/lib/python3.10/site-packages/anndata/_io/specs/methods.py:514\u001b[0m, in \u001b[0;36mwrite_dataframe\u001b[0;34m(f, key, df, dataset_kwargs)\u001b[0m\n\u001b[1;32m    511\u001b[0m write_elem(group, index_name, df\u001b[38;5;241m.\u001b[39mindex\u001b[38;5;241m.\u001b[39m_values, dataset_kwargs\u001b[38;5;241m=\u001b[39mdataset_kwargs)\n\u001b[1;32m    512\u001b[0m \u001b[38;5;28;01mfor\u001b[39;00m colname, series \u001b[38;5;129;01min\u001b[39;00m df\u001b[38;5;241m.\u001b[39mitems():\n\u001b[1;32m    513\u001b[0m     \u001b[38;5;66;03m# TODO: this should write the \"true\" representation of the series (i.e. the underlying array or ndarray depending)\u001b[39;00m\n\u001b[0;32m--> 514\u001b[0m     \u001b[43mwrite_elem\u001b[49m\u001b[43m(\u001b[49m\u001b[43mgroup\u001b[49m\u001b[43m,\u001b[49m\u001b[43m \u001b[49m\u001b[43mcolname\u001b[49m\u001b[43m,\u001b[49m\u001b[43m \u001b[49m\u001b[43mseries\u001b[49m\u001b[38;5;241;43m.\u001b[39;49m\u001b[43m_values\u001b[49m\u001b[43m,\u001b[49m\u001b[43m \u001b[49m\u001b[43mdataset_kwargs\u001b[49m\u001b[38;5;241;43m=\u001b[39;49m\u001b[43mdataset_kwargs\u001b[49m\u001b[43m)\u001b[49m\n",
      "File \u001b[0;32m/gpfs/ycga/project/lim_janghoo/cl2292/conda_envs/af/lib/python3.10/site-packages/anndata/_io/utils.py:220\u001b[0m, in \u001b[0;36mreport_write_key_on_error.<locals>.func_wrapper\u001b[0;34m(elem, key, val, *args, **kwargs)\u001b[0m\n\u001b[1;32m    218\u001b[0m \u001b[38;5;28;01melse\u001b[39;00m:\n\u001b[1;32m    219\u001b[0m     parent \u001b[38;5;241m=\u001b[39m _get_parent(elem)\n\u001b[0;32m--> 220\u001b[0m     \u001b[38;5;28;01mraise\u001b[39;00m \u001b[38;5;28mtype\u001b[39m(e)(\n\u001b[1;32m    221\u001b[0m         \u001b[38;5;124mf\u001b[39m\u001b[38;5;124m\"\u001b[39m\u001b[38;5;132;01m{\u001b[39;00me\u001b[38;5;132;01m}\u001b[39;00m\u001b[38;5;130;01m\\n\u001b[39;00m\u001b[38;5;130;01m\\n\u001b[39;00m\u001b[38;5;124m\"\u001b[39m\n\u001b[1;32m    222\u001b[0m         \u001b[38;5;124mf\u001b[39m\u001b[38;5;124m\"\u001b[39m\u001b[38;5;124mAbove error raised while writing key \u001b[39m\u001b[38;5;132;01m{\u001b[39;00mkey\u001b[38;5;132;01m!r}\u001b[39;00m\u001b[38;5;124m of \u001b[39m\u001b[38;5;132;01m{\u001b[39;00m\u001b[38;5;28mtype\u001b[39m(elem)\u001b[38;5;132;01m}\u001b[39;00m\u001b[38;5;124m \u001b[39m\u001b[38;5;124m\"\u001b[39m\n\u001b[1;32m    223\u001b[0m         \u001b[38;5;124mf\u001b[39m\u001b[38;5;124m\"\u001b[39m\u001b[38;5;124mto \u001b[39m\u001b[38;5;132;01m{\u001b[39;00mparent\u001b[38;5;132;01m}\u001b[39;00m\u001b[38;5;124m\"\u001b[39m\n\u001b[1;32m    224\u001b[0m     ) \u001b[38;5;28;01mfrom\u001b[39;00m \u001b[38;5;21;01me\u001b[39;00m\n",
      "\u001b[0;31mTypeError\u001b[0m: Can't implicitly convert non-string objects to strings\n\nAbove error raised while writing key 'predicted_doublet' of <class 'h5py._hl.group.Group'> to /"
     ]
    }
   ],
   "source": [
    "# save data objects\n",
    "adata.write(os.path.join(pdfp,'230128_26&52wk.h5ad'))\n",
    "print('saved @'+datetime.datetime.now().strftime('%y%m%d.%H:%M:%S'))"
   ]
  },
  {
   "cell_type": "code",
   "execution_count": 21,
   "id": "c0808480",
   "metadata": {},
   "outputs": [
    {
     "name": "stderr",
     "output_type": "stream",
     "text": [
      "/gpfs/ycga/project/lim_janghoo/cl2292/conda_envs/af/lib/python3.10/site-packages/scanpy/plotting/_tools/scatterplots.py:392: UserWarning: No data for colormapping provided via 'c'. Parameters 'cmap', 'norm' will be ignored\n",
      "  cax = scatter(\n"
     ]
    }
   ],
   "source": [
    "sc.pl.umap(adata)"
   ]
  }
 ],
 "metadata": {
  "kernelspec": {
   "display_name": "Python 3 (ipykernel)",
   "language": "python",
   "name": "python3"
  },
  "language_info": {
   "codemirror_mode": {
    "name": "ipython",
    "version": 3
   },
   "file_extension": ".py",
   "mimetype": "text/x-python",
   "name": "python",
   "nbconvert_exporter": "python",
   "pygments_lexer": "ipython3",
   "version": "3.10.8"
  }
 },
 "nbformat": 4,
 "nbformat_minor": 5
}
